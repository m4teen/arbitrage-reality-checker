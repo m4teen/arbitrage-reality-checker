{
 "cells": [
  {
   "cell_type": "markdown",
   "id": "f019ccb2",
   "metadata": {},
   "source": [
    "# Arbitrage Reality Check\n",
    "\n",
    "This notebook explores when theoretical arbitrage opportunities break down under real-world trading frictions: slippage, fees, and latency. We simulate different scenarios to understand how often arbitrage remains profitable when faced with market dynamics."
   ]
  },
  {
   "cell_type": "markdown",
   "id": "a2e0faeb",
   "metadata": {},
   "source": [
    "## Setup: Libraries and Base Parameters"
   ]
  },
  {
   "cell_type": "code",
   "execution_count": 1,
   "id": "b320b26a",
   "metadata": {},
   "outputs": [
    {
     "ename": "ModuleNotFoundError",
     "evalue": "No module named 'matplotlib'",
     "output_type": "error",
     "traceback": [
      "\u001b[31m---------------------------------------------------------------------------\u001b[39m",
      "\u001b[31mModuleNotFoundError\u001b[39m                       Traceback (most recent call last)",
      "\u001b[36mCell\u001b[39m\u001b[36m \u001b[39m\u001b[32mIn[1]\u001b[39m\u001b[32m, line 2\u001b[39m\n\u001b[32m      1\u001b[39m \u001b[38;5;28;01mimport\u001b[39;00m\u001b[38;5;250m \u001b[39m\u001b[34;01mnumpy\u001b[39;00m\u001b[38;5;250m \u001b[39m\u001b[38;5;28;01mas\u001b[39;00m\u001b[38;5;250m \u001b[39m\u001b[34;01mnp\u001b[39;00m\n\u001b[32m----> \u001b[39m\u001b[32m2\u001b[39m \u001b[38;5;28;01mimport\u001b[39;00m\u001b[38;5;250m \u001b[39m\u001b[34;01mmatplotlib\u001b[39;00m\u001b[34;01m.\u001b[39;00m\u001b[34;01mpyplot\u001b[39;00m\u001b[38;5;250m \u001b[39m\u001b[38;5;28;01mas\u001b[39;00m\u001b[38;5;250m \u001b[39m\u001b[34;01mplt\u001b[39;00m\n\u001b[32m      3\u001b[39m \u001b[38;5;28;01mimport\u001b[39;00m\u001b[38;5;250m \u001b[39m\u001b[34;01mrandom\u001b[39;00m\n\u001b[32m      5\u001b[39m np.random.seed(\u001b[32m42\u001b[39m)\n",
      "\u001b[31mModuleNotFoundError\u001b[39m: No module named 'matplotlib'"
     ]
    }
   ],
   "source": [
    "import numpy as np\n",
    "import matplotlib.pyplot as plt\n",
    "import random\n",
    "\n",
    "np.random.seed(42)\n",
    "random.seed(42)\n",
    "\n",
    "def simulate_arbitrage(price_a, price_b, volume, slippage=0.0, fee=0.0, latency=0, volatility=0.0):\n",
    "    \"\"\"Simulate a single arbitrage trade with optional frictions.\"\"\"\n",
    "    effective_price_a = price_a * (1 + slippage)\n",
    "    effective_price_b = price_b * (1 - slippage)\n",
    "\n",
    "    # Simulate latency with random price drift\n",
    "    for _ in range(latency):\n",
    "        drift = np.random.normal(0, volatility)\n",
    "        effective_price_b += drift  # simulate price change on sell side\n",
    "\n",
    "    gross_profit = (effective_price_b - effective_price_a) * volume\n",
    "    net_profit = gross_profit - (fee * 2)  # fee paid on both buy and sell\n",
    "    return net_profit\n"
   ]
  },
  {
   "cell_type": "markdown",
   "id": "435db751",
   "metadata": {},
   "source": [
    "## Case 1: Frictionless Arbitrage\n",
    "Simulates pure arbitrage with no slippage, no fees, and no latency."
   ]
  },
  {
   "cell_type": "code",
   "execution_count": null,
   "id": "346757f3",
   "metadata": {},
   "outputs": [],
   "source": [
    "profit = simulate_arbitrage(price_a=100, price_b=102, volume=10)\n",
    "print(f\"Net Profit: ${profit:.2f}\")"
   ]
  },
  {
   "cell_type": "markdown",
   "id": "39a80a4f",
   "metadata": {},
   "source": [
    "## Case 2: Slippage Only\n",
    "Simulates price impact on large trade sizes."
   ]
  },
  {
   "cell_type": "code",
   "execution_count": null,
   "id": "044fc53d",
   "metadata": {},
   "outputs": [],
   "source": [
    "profit = simulate_arbitrage(price_a=100, price_b=102, volume=10, slippage=0.01)\n",
    "print(f\"Net Profit with Slippage: ${profit:.2f}\")"
   ]
  },
  {
   "cell_type": "markdown",
   "id": "d57c51a4",
   "metadata": {},
   "source": [
    "## Case 3: Fees Only\n",
    "Simulates flat transaction costs."
   ]
  },
  {
   "cell_type": "code",
   "execution_count": null,
   "id": "660fa657",
   "metadata": {},
   "outputs": [],
   "source": [
    "profit = simulate_arbitrage(price_a=100, price_b=102, volume=10, fee=1.0)\n",
    "print(f\"Net Profit with Fees: ${profit:.2f}\")"
   ]
  },
  {
   "cell_type": "markdown",
   "id": "f2adade4",
   "metadata": {},
   "source": [
    "## Case 4: Latency and Price Drift\n",
    "Adds execution delay and random price changes during latency."
   ]
  },
  {
   "cell_type": "code",
   "execution_count": null,
   "id": "bad4989a",
   "metadata": {},
   "outputs": [],
   "source": [
    "profit = simulate_arbitrage(price_a=100, price_b=102, volume=10, latency=3, volatility=0.5)\n",
    "print(f\"Net Profit with Latency and Volatility: ${profit:.2f}\")"
   ]
  },
  {
   "cell_type": "markdown",
   "id": "6beddbc3",
   "metadata": {},
   "source": [
    "## Case 5: Combined Real-World Effects\n",
    "Combines slippage, fees, and latency across 100 simulated arbitrage attempts."
   ]
  },
  {
   "cell_type": "code",
   "execution_count": null,
   "id": "50d2c507",
   "metadata": {},
   "outputs": [],
   "source": [
    "profits = []\n",
    "for _ in range(100):\n",
    "    profit = simulate_arbitrage(\n",
    "        price_a=100, price_b=102, volume=10,\n",
    "        slippage=0.01, fee=1.0, latency=3, volatility=0.5\n",
    "    )\n",
    "    profits.append(profit)\n",
    "\n",
    "plt.figure(figsize=(10, 4))\n",
    "plt.hist(profits, bins=20, edgecolor='black')\n",
    "plt.axvline(0, color='red', linestyle='--', label='Break-even')\n",
    "plt.title(\"Net Profit Distribution with All Frictions\")\n",
    "plt.xlabel(\"Net Profit ($)\")\n",
    "plt.ylabel(\"Frequency\")\n",
    "plt.legend()\n",
    "plt.grid(True)\n",
    "plt.savefig(\"images/net-profit-histogram.png\")\n",
    "plt.show()\n",
    "\n",
    "positive_trades = sum(p > 0 for p in profits)\n",
    "print(f\"Profitable Trades: {positive_trades}/100\")"
   ]
  },
  {
   "cell_type": "markdown",
   "id": "b0e9c43d",
   "metadata": {},
   "source": [
    "## Conclusion\n",
    "\n",
    "This simulation illustrates that while arbitrage appears risk-free in theory, real-world trading frictions like slippage, fees, and latency can erode or eliminate profitability. As more frictions are layered on, the arbitrage becomes probabilistic rather than guaranteed, and a meaningful portion of trades can become unprofitable."
   ]
  }
 ],
 "metadata": {
  "kernelspec": {
   "display_name": "Python 3 (ipykernel)",
   "language": "python",
   "name": "python3"
  },
  "language_info": {
   "codemirror_mode": {
    "name": "ipython",
    "version": 3
   },
   "file_extension": ".py",
   "mimetype": "text/x-python",
   "name": "python",
   "nbconvert_exporter": "python",
   "pygments_lexer": "ipython3",
   "version": "3.13.3"
  }
 },
 "nbformat": 4,
 "nbformat_minor": 5
}
